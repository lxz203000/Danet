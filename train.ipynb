{
 "cells": [
  {
   "cell_type": "code",
   "execution_count": 1,
   "metadata": {},
   "outputs": [
    {
     "name": "stderr",
     "output_type": "stream",
     "text": [
      "/Library/Python/3.8/site-packages/matplotlib_inline/config.py:66: DeprecationWarning: InlineBackend._figure_formats_changed is deprecated in traitlets 4.1: use @observe and @unobserve instead.\n",
      "  def _figure_formats_changed(self, name, old, new):\n"
     ]
    }
   ],
   "source": [
    "import paddle.nn as nn\n",
    "import paddle\n",
    "from paddle.fluid.layer_helper import LayerHelper\n",
    "from paddle.io import Dataset,DataLoader\n",
    "import glob\n",
    "import os\n",
    "from tqdm import tqdm\n",
    "import matplotlib.image as mpimg\n",
    "import cv2\n",
    "import numpy as np\n",
    "import matplotlib.pyplot as plt\n",
    "import warnings\n",
    "warnings.filterwarnings(\"ignore\")\n",
    "\n",
    "import backbone\n",
    "import Danet\n",
    "import dataset"
   ]
  },
  {
   "cell_type": "code",
   "execution_count": 2,
   "metadata": {},
   "outputs": [],
   "source": [
    "net=Danet.DANet('danet')"
   ]
  },
  {
   "cell_type": "code",
   "execution_count": null,
   "metadata": {},
   "outputs": [],
   "source": [
    "epoch=15\n",
    "batch_num = 32\n",
    "Learning_rate = 1e-2\n",
    "end_lr=1e-4\n",
    "lr_power=0.9\n",
    "l2decay=0.0001\n",
    "momentum=0.9\n",
    "acc_list=[0]\n",
    "\n",
    "lr=paddle.optimizer.lr.PolynomialDecay(Learning_rate,epoch*batch_num,end_lr,lr_power)\n",
    "l2_decay=paddle.regularizer.L2Decay(l2decay)\n",
    "\n",
    "dataset=dataset.CitySegmentation()\n",
    "dataloader = DataLoader(dataset,batch_size=batch_num,num_workers=2,shuffle=True)\n",
    "\n",
    "warnings.filterwarnings(\"ignore\")\n",
    "\n",
    "#criterion = nn.functional.softmax_with_cross_entropy\n",
    "criterion = nn.BCELoss()\n",
    "\n",
    "#optim = paddle.optimizer.Adam(parameters=net.parameters(),learning_rate=Learning_rate)\n",
    "optim = paddle.optimizer.Momentum(lr,momentum=momentum,parameters=net.parameters(),weight_decay=l2_decay)\n",
    "\n",
    "item=paddle.load(\"net.pdparams\")\n",
    "net.set_state_dict(item)\n",
    "\n",
    "for epoch in range(epoch):\n",
    "    print(\"epoch\",epoch)\n",
    "    for i,(x,y) in enumerate(tqdm(dataloader)):\n",
    "        x=paddle.to_tensor(x)\n",
    "\n",
    "        y[y.numpy()<0.5]=0\n",
    "        y[y.numpy()>=0.5]=1\n",
    "        y=paddle.to_tensor(y)\n",
    "\n",
    "        p_out,c_out,output=net(x)\n",
    "\n",
    "        output=output.squeeze()\n",
    "\n",
    "        p_out=nn.functional.sigmoid(p_out)\n",
    "        c_out=nn.functional.sigmoid(c_out)\n",
    "        output=nn.functional.sigmoid(output)\n",
    "\n",
    "        loss_p = criterion(p_out, y)\n",
    "        loss_c = criterion(c_out, y)\n",
    "        loss_sum = criterion(output, y)\n",
    "        loss = 0.3*loss_p+0.3*loss_c+0.4*loss_sum\n",
    "\n",
    "        loss_mean = paddle.mean(loss)\n",
    "\n",
    "        loss_mean.backward()\n",
    "\n",
    "        optim.step()\n",
    "        optim.clear_grad()\n",
    "\n",
    "        if i%10==0:\n",
    "            pres = np.argmax(output.numpy(), axis=1)\n",
    "            gts = np.argmax(y, axis=1)\n",
    "            correct = (pres == gts).sum().astype('float32')\n",
    "            acc = correct / (gts.shape[0] * gts.shape[1] * gts.shape[2])\n",
    "            print(acc)\n",
    "            print(loss_mean.item())\n",
    "            if acc>max(acc_list):\n",
    "                acc_list.append(acc)\n",
    "                print(\"max\")\n",
    "                paddle.save(net.state_dict(), \"net.pdparams\")\n",
    "paddle.save(net.state_dict(), \"net.pdparams\")\n"
   ]
  }
 ],
 "metadata": {
  "interpreter": {
   "hash": "31f2aee4e71d21fbe5cf8b01ff0e069b9275f58929596ceb00d14d90e3e16cd6"
  },
  "kernelspec": {
   "display_name": "Python 3.8.2 64-bit",
   "name": "python3"
  },
  "language_info": {
   "codemirror_mode": {
    "name": "ipython",
    "version": 3
   },
   "file_extension": ".py",
   "mimetype": "text/x-python",
   "name": "python",
   "nbconvert_exporter": "python",
   "pygments_lexer": "ipython3",
   "version": "3.8.2"
  },
  "orig_nbformat": 4
 },
 "nbformat": 4,
 "nbformat_minor": 2
}
